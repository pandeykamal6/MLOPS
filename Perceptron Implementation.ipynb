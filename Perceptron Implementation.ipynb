{
 "cells": [
  {
   "cell_type": "code",
   "execution_count": 1,
   "id": "4e06a5b4",
   "metadata": {},
   "outputs": [],
   "source": [
    "import numpy as np\n",
    "import matplotlib.pyplot as plt\n",
    "import joblib\n",
    "class Perceptron():\n",
    "    def __init__(self,eta:float=None,epoch:float=None):\n",
    "        self.eta=eta\n",
    "        self.epoch=epoch\n",
    "        self.weight=np.random.rand(3)*1e-4\n",
    "    def fit(self,X,y):\n",
    "        self.X=X\n",
    "        self.y=y\n",
    "        x_with_bias=np.c_[self.X,np.ones((len(self.X),1))]\n",
    "        print (f'X with biases is:\\n {x_with_bias}')\n",
    "    def trial(self,x:int=None,y:int=None):\n",
    "        return x\n",
    "    def var(self):\n",
    "        self.m=40\n",
    "        return self.m\n",
    "    def pf(self):\n",
    "        var=self.m\n",
    "        return var\n",
    "        "
   ]
  },
  {
   "cell_type": "code",
   "execution_count": 130,
   "id": "9c84b967",
   "metadata": {},
   "outputs": [],
   "source": [
    "obj2=Perceptron()"
   ]
  },
  {
   "cell_type": "code",
   "execution_count": 131,
   "id": "33383e53",
   "metadata": {},
   "outputs": [
    {
     "data": {
      "text/plain": [
       "40"
      ]
     },
     "execution_count": 131,
     "metadata": {},
     "output_type": "execute_result"
    }
   ],
   "source": [
    "obj2.var()"
   ]
  },
  {
   "cell_type": "code",
   "execution_count": 132,
   "id": "8c12cc4a",
   "metadata": {},
   "outputs": [
    {
     "data": {
      "text/plain": [
       "40"
      ]
     },
     "execution_count": 132,
     "metadata": {},
     "output_type": "execute_result"
    }
   ],
   "source": [
    "obj2.pf()"
   ]
  },
  {
   "cell_type": "code",
   "execution_count": 4,
   "id": "862c95f1",
   "metadata": {},
   "outputs": [
    {
     "data": {
      "text/plain": [
       "2"
      ]
     },
     "execution_count": 4,
     "metadata": {},
     "output_type": "execute_result"
    }
   ],
   "source": [
    "np.dot(1,2)"
   ]
  },
  {
   "cell_type": "code",
   "execution_count": 16,
   "id": "f4c7ed12",
   "metadata": {},
   "outputs": [],
   "source": [
    "a=np.array([[2,3,4,5],[3,2,3,5]])"
   ]
  },
  {
   "cell_type": "code",
   "execution_count": 18,
   "id": "5f1458d3",
   "metadata": {},
   "outputs": [],
   "source": [
    "b=np.array([[2,3],[3,4],[5,6],[7,8]])"
   ]
  },
  {
   "cell_type": "code",
   "execution_count": 19,
   "id": "3a9d6a7a",
   "metadata": {},
   "outputs": [
    {
     "data": {
      "text/plain": [
       "array([[2, 3],\n",
       "       [3, 4],\n",
       "       [5, 6],\n",
       "       [7, 8]])"
      ]
     },
     "execution_count": 19,
     "metadata": {},
     "output_type": "execute_result"
    }
   ],
   "source": [
    "b"
   ]
  },
  {
   "cell_type": "code",
   "execution_count": 20,
   "id": "cbbc9195",
   "metadata": {},
   "outputs": [],
   "source": [
    "c=a@b"
   ]
  },
  {
   "cell_type": "code",
   "execution_count": 21,
   "id": "bc1816ae",
   "metadata": {},
   "outputs": [
    {
     "data": {
      "text/plain": [
       "array([[68, 82],\n",
       "       [62, 75]])"
      ]
     },
     "execution_count": 21,
     "metadata": {},
     "output_type": "execute_result"
    }
   ],
   "source": [
    "c"
   ]
  },
  {
   "cell_type": "code",
   "execution_count": 22,
   "id": "a4044435",
   "metadata": {},
   "outputs": [
    {
     "data": {
      "text/plain": [
       "array([[68, 82],\n",
       "       [62, 75]])"
      ]
     },
     "execution_count": 22,
     "metadata": {},
     "output_type": "execute_result"
    }
   ],
   "source": [
    "np.dot(a,b)"
   ]
  },
  {
   "cell_type": "code",
   "execution_count": 24,
   "id": "e43300a8",
   "metadata": {},
   "outputs": [],
   "source": [
    "a = np.arange(3*4*5*6).reshape((3,4,5,6))\n",
    "#b = np.arange(3*4*5*6)[::-1].reshape((5,4,6,3))\n",
    "#np.dot(a, b)[2,3,2,1,2,2]"
   ]
  },
  {
   "cell_type": "code",
   "execution_count": 36,
   "id": "2e924e1e",
   "metadata": {},
   "outputs": [
    {
     "data": {
      "text/plain": [
       "array([[[[  0,   1,   2,   3,   4,   5],\n",
       "         [  6,   7,   8,   9,  10,  11],\n",
       "         [ 12,  13,  14,  15,  16,  17],\n",
       "         [ 18,  19,  20,  21,  22,  23],\n",
       "         [ 24,  25,  26,  27,  28,  29]],\n",
       "\n",
       "        [[ 30,  31,  32,  33,  34,  35],\n",
       "         [ 36,  37,  38,  39,  40,  41],\n",
       "         [ 42,  43,  44,  45,  46,  47],\n",
       "         [ 48,  49,  50,  51,  52,  53],\n",
       "         [ 54,  55,  56,  57,  58,  59]],\n",
       "\n",
       "        [[ 60,  61,  62,  63,  64,  65],\n",
       "         [ 66,  67,  68,  69,  70,  71],\n",
       "         [ 72,  73,  74,  75,  76,  77],\n",
       "         [ 78,  79,  80,  81,  82,  83],\n",
       "         [ 84,  85,  86,  87,  88,  89]],\n",
       "\n",
       "        [[ 90,  91,  92,  93,  94,  95],\n",
       "         [ 96,  97,  98,  99, 100, 101],\n",
       "         [102, 103, 104, 105, 106, 107],\n",
       "         [108, 109, 110, 111, 112, 113],\n",
       "         [114, 115, 116, 117, 118, 119]]],\n",
       "\n",
       "\n",
       "       [[[120, 121, 122, 123, 124, 125],\n",
       "         [126, 127, 128, 129, 130, 131],\n",
       "         [132, 133, 134, 135, 136, 137],\n",
       "         [138, 139, 140, 141, 142, 143],\n",
       "         [144, 145, 146, 147, 148, 149]],\n",
       "\n",
       "        [[150, 151, 152, 153, 154, 155],\n",
       "         [156, 157, 158, 159, 160, 161],\n",
       "         [162, 163, 164, 165, 166, 167],\n",
       "         [168, 169, 170, 171, 172, 173],\n",
       "         [174, 175, 176, 177, 178, 179]],\n",
       "\n",
       "        [[180, 181, 182, 183, 184, 185],\n",
       "         [186, 187, 188, 189, 190, 191],\n",
       "         [192, 193, 194, 195, 196, 197],\n",
       "         [198, 199, 200, 201, 202, 203],\n",
       "         [204, 205, 206, 207, 208, 209]],\n",
       "\n",
       "        [[210, 211, 212, 213, 214, 215],\n",
       "         [216, 217, 218, 219, 220, 221],\n",
       "         [222, 223, 224, 225, 226, 227],\n",
       "         [228, 229, 230, 231, 232, 233],\n",
       "         [234, 235, 236, 237, 238, 239]]],\n",
       "\n",
       "\n",
       "       [[[240, 241, 242, 243, 244, 245],\n",
       "         [246, 247, 248, 249, 250, 251],\n",
       "         [252, 253, 254, 255, 256, 257],\n",
       "         [258, 259, 260, 261, 262, 263],\n",
       "         [264, 265, 266, 267, 268, 269]],\n",
       "\n",
       "        [[270, 271, 272, 273, 274, 275],\n",
       "         [276, 277, 278, 279, 280, 281],\n",
       "         [282, 283, 284, 285, 286, 287],\n",
       "         [288, 289, 290, 291, 292, 293],\n",
       "         [294, 295, 296, 297, 298, 299]],\n",
       "\n",
       "        [[300, 301, 302, 303, 304, 305],\n",
       "         [306, 307, 308, 309, 310, 311],\n",
       "         [312, 313, 314, 315, 316, 317],\n",
       "         [318, 319, 320, 321, 322, 323],\n",
       "         [324, 325, 326, 327, 328, 329]],\n",
       "\n",
       "        [[330, 331, 332, 333, 334, 335],\n",
       "         [336, 337, 338, 339, 340, 341],\n",
       "         [342, 343, 344, 345, 346, 347],\n",
       "         [348, 349, 350, 351, 352, 353],\n",
       "         [354, 355, 356, 357, 358, 359]]]])"
      ]
     },
     "execution_count": 36,
     "metadata": {},
     "output_type": "execute_result"
    }
   ],
   "source": [
    "np.arange(3*4*5*6).reshape(3,4,5,6)"
   ]
  },
  {
   "cell_type": "code",
   "execution_count": 49,
   "id": "6b0891a2",
   "metadata": {},
   "outputs": [
    {
     "data": {
      "text/plain": [
       "array([[[[  0,   1,   2,   3,   4,   5,   6,   7,   8,   9],\n",
       "         [ 10,  11,  12,  13,  14,  15,  16,  17,  18,  19]],\n",
       "\n",
       "        [[ 20,  21,  22,  23,  24,  25,  26,  27,  28,  29],\n",
       "         [ 30,  31,  32,  33,  34,  35,  36,  37,  38,  39]]],\n",
       "\n",
       "\n",
       "       [[[ 40,  41,  42,  43,  44,  45,  46,  47,  48,  49],\n",
       "         [ 50,  51,  52,  53,  54,  55,  56,  57,  58,  59]],\n",
       "\n",
       "        [[ 60,  61,  62,  63,  64,  65,  66,  67,  68,  69],\n",
       "         [ 70,  71,  72,  73,  74,  75,  76,  77,  78,  79]]],\n",
       "\n",
       "\n",
       "       [[[ 80,  81,  82,  83,  84,  85,  86,  87,  88,  89],\n",
       "         [ 90,  91,  92,  93,  94,  95,  96,  97,  98,  99]],\n",
       "\n",
       "        [[100, 101, 102, 103, 104, 105, 106, 107, 108, 109],\n",
       "         [110, 111, 112, 113, 114, 115, 116, 117, 118, 119]]],\n",
       "\n",
       "\n",
       "       [[[120, 121, 122, 123, 124, 125, 126, 127, 128, 129],\n",
       "         [130, 131, 132, 133, 134, 135, 136, 137, 138, 139]],\n",
       "\n",
       "        [[140, 141, 142, 143, 144, 145, 146, 147, 148, 149],\n",
       "         [150, 151, 152, 153, 154, 155, 156, 157, 158, 159]]],\n",
       "\n",
       "\n",
       "       [[[160, 161, 162, 163, 164, 165, 166, 167, 168, 169],\n",
       "         [170, 171, 172, 173, 174, 175, 176, 177, 178, 179]],\n",
       "\n",
       "        [[180, 181, 182, 183, 184, 185, 186, 187, 188, 189],\n",
       "         [190, 191, 192, 193, 194, 195, 196, 197, 198, 199]]]])"
      ]
     },
     "execution_count": 49,
     "metadata": {},
     "output_type": "execute_result"
    }
   ],
   "source": [
    "np.arange(200).reshape(5,2,2,10)"
   ]
  },
  {
   "cell_type": "code",
   "execution_count": null,
   "id": "77af7d13",
   "metadata": {},
   "outputs": [],
   "source": []
  }
 ],
 "metadata": {
  "kernelspec": {
   "display_name": "Python 3 (ipykernel)",
   "language": "python",
   "name": "python3"
  },
  "language_info": {
   "codemirror_mode": {
    "name": "ipython",
    "version": 3
   },
   "file_extension": ".py",
   "mimetype": "text/x-python",
   "name": "python",
   "nbconvert_exporter": "python",
   "pygments_lexer": "ipython3",
   "version": "3.9.7"
  }
 },
 "nbformat": 4,
 "nbformat_minor": 5
}
