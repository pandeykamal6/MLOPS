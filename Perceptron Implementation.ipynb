{
 "cells": [
  {
   "cell_type": "code",
   "execution_count": 129,
   "id": "4e06a5b4",
   "metadata": {},
   "outputs": [],
   "source": [
    "import numpy as np\n",
    "import matplotlib.pyplot as plt\n",
    "import joblib\n",
    "class Perceptron():\n",
    "    def __init__(self,eta:float=None,epoch:float=None):\n",
    "        self.eta=eta\n",
    "        self.epoch=epoch\n",
    "        self.weight=np.random.rand(3)*1e-4\n",
    "    def fit(self,X,y):\n",
    "        self.X=X\n",
    "        self.y=y\n",
    "        x_with_bias=np.c_[self.X,np.ones((len(self.X),1))]\n",
    "        print (f'X with biases is:\\n {x_with_bias}')\n",
    "    def trial(self,x:int=None,y:int=None):\n",
    "        return x\n",
    "    def var(self):\n",
    "        self.m=40\n",
    "        return self.m\n",
    "    def pf(self):\n",
    "        var=self.m\n",
    "        return var\n",
    "        "
   ]
  },
  {
   "cell_type": "code",
   "execution_count": 130,
   "id": "9c84b967",
   "metadata": {},
   "outputs": [],
   "source": [
    "obj2=Perceptron()"
   ]
  },
  {
   "cell_type": "code",
   "execution_count": 131,
   "id": "33383e53",
   "metadata": {},
   "outputs": [
    {
     "data": {
      "text/plain": [
       "40"
      ]
     },
     "execution_count": 131,
     "metadata": {},
     "output_type": "execute_result"
    }
   ],
   "source": [
    "obj2.var()"
   ]
  },
  {
   "cell_type": "code",
   "execution_count": 132,
   "id": "8c12cc4a",
   "metadata": {},
   "outputs": [
    {
     "data": {
      "text/plain": [
       "40"
      ]
     },
     "execution_count": 132,
     "metadata": {},
     "output_type": "execute_result"
    }
   ],
   "source": [
    "obj2.pf()"
   ]
  },
  {
   "cell_type": "code",
   "execution_count": null,
   "id": "862c95f1",
   "metadata": {},
   "outputs": [],
   "source": []
  }
 ],
 "metadata": {
  "kernelspec": {
   "display_name": "Python 3 (ipykernel)",
   "language": "python",
   "name": "python3"
  },
  "language_info": {
   "codemirror_mode": {
    "name": "ipython",
    "version": 3
   },
   "file_extension": ".py",
   "mimetype": "text/x-python",
   "name": "python",
   "nbconvert_exporter": "python",
   "pygments_lexer": "ipython3",
   "version": "3.9.7"
  }
 },
 "nbformat": 4,
 "nbformat_minor": 5
}
