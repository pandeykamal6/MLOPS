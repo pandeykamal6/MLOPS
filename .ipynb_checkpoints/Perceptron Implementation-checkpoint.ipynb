{
 "cells": [
  {
   "cell_type": "code",
   "execution_count": 206,
   "id": "4e06a5b4",
   "metadata": {},
   "outputs": [],
   "source": [
    "import numpy as np\n",
    "import matplotlib.pyplot as plt\n",
    "import joblib\n",
    "class Perceptron():\n",
    "    \n",
    "    def __init__(self,eta:float=None,epoch:float=None):\n",
    "        self.eta=eta # learning rate\n",
    "        self.epoch=epoch # iterations\n",
    "        self.weight=np.random.rand(3)*1e-4\n",
    "        \n",
    "    def _z_value(self,input,weight):\n",
    "        return np.dot(input,weight)\n",
    "    \n",
    "    def step_activate(self,z_value):\n",
    "        return np.where(z_value>0,1,0)\n",
    "    \n",
    "    def fit(self,X,y):\n",
    "        self.X=X\n",
    "        self.y=y\n",
    "        x_with_bias=np.c_[self.X,-np.ones((len(self.X),1))]\n",
    "        print (f'X with biases is:\\n {x_with_bias}')\n",
    "        for iter in range(self.epoch):\n",
    "            z=self._z_value(x_with_bias,self.weight)\n",
    "            y_hat=self.step_activate(z)\n",
    "            self.error=self.y-y_hat\n",
    "            self.weight=self.weight+self.eta*np.dot(x_with_bias.T,self.error)\n",
    "            \n",
    "            \n",
    "            \n",
    "            \n",
    "        "
   ]
  },
  {
   "cell_type": "code",
   "execution_count": 246,
   "id": "224c735d",
   "metadata": {},
   "outputs": [],
   "source": [
    "import numpy as np\n",
    "class Perceptron1:\n",
    "    def __init__(self,epoch:float=None,eta:float=None):#class initialization\n",
    "        \n",
    "        self.iter=epoch\n",
    "        \n",
    "        self.learning=eta\n",
    "        \n",
    "        self.weight=np.random.rand(3)*1e-4\n",
    "        \n",
    "    def _z_value(self,input,weight):#---------------------for z value determination\n",
    "        \n",
    "        return np.dot(input,weight)\n",
    "    \n",
    "    def _step_func(self,z_value):#------------step function for 0 or 1 class\n",
    "        \n",
    "        return np.where(z_value>=0,1,0)\n",
    "    \n",
    "    \n",
    "    \n",
    "    def fit(self,x,y): #-----------------to fit inside the model\n",
    "        self.x=x\n",
    "        self.y=y\n",
    "        x_with_bias=np.c_[self.x,-np.ones((len(self.x),1))]\n",
    "        print(f'x_with_biases:\\n{x_with_bias}')\n",
    "        \n",
    "        for value in range(self.iter):\n",
    "            \n",
    "            z=self._z_value(x_with_bias,self.weight)\n",
    "            \n",
    "            self.y_hat=self._step_func(z)\n",
    "            \n",
    "            self.error=self.y-self.y_hat\n",
    "            \n",
    "            self.weight=self.weight+self.learning*np.dot(x_with_bias.T,self.error)\n",
    "            \n",
    "    def predict(self,x):\n",
    "        x_with_bias=np.c_[x,np.ones((len(x),1))]\n",
    "        z=self._z_value(x_with_bias,self.weight)\n",
    "        return self._step_func(z)\n",
    "        \n",
    "        "
   ]
  },
  {
   "cell_type": "code",
   "execution_count": 215,
   "id": "335776d7",
   "metadata": {},
   "outputs": [],
   "source": [
    "def data_extrac(df,target_col='y'):\n",
    "        x=df.drop(target_col,axis=1)\n",
    "        y=df[target_col]\n",
    "        return x,y"
   ]
  },
  {
   "cell_type": "code",
   "execution_count": 216,
   "id": "71745d90",
   "metadata": {},
   "outputs": [],
   "source": [
    "dic={'x1':[0,0,1,1],'x2':[0,1,0,1],'y':[0,1,1,1]}\n",
    "import pandas as pd\n",
    "df=pd.DataFrame(dic)"
   ]
  },
  {
   "cell_type": "code",
   "execution_count": 217,
   "id": "0113c47f",
   "metadata": {},
   "outputs": [],
   "source": [
    "x,y=data_extrac(df,target_col='y')"
   ]
  },
  {
   "cell_type": "code",
   "execution_count": 247,
   "id": "3702aec5",
   "metadata": {},
   "outputs": [
    {
     "name": "stdout",
     "output_type": "stream",
     "text": [
      "x_with_biases:\n",
      "[[ 0.  0. -1.]\n",
      " [ 0.  1. -1.]\n",
      " [ 1.  0. -1.]\n",
      " [ 1.  1. -1.]]\n"
     ]
    }
   ],
   "source": [
    "epoch=10\n",
    "eta=0.1\n",
    "or_gate=Perceptron1(epoch=epoch,eta=eta)\n",
    "or_gate.fit(x,y)"
   ]
  },
  {
   "cell_type": "code",
   "execution_count": 252,
   "id": "3e9d0a77",
   "metadata": {},
   "outputs": [
    {
     "data": {
      "text/plain": [
       "array([1])"
      ]
     },
     "execution_count": 252,
     "metadata": {},
     "output_type": "execute_result"
    }
   ],
   "source": [
    "or_gate.predict(x=[[1,1]])"
   ]
  },
  {
   "cell_type": "code",
   "execution_count": 158,
   "id": "a97c9fff",
   "metadata": {},
   "outputs": [
    {
     "data": {
      "text/plain": [
       "array([[0., 0., 1.],\n",
       "       [0., 1., 1.],\n",
       "       [1., 0., 1.],\n",
       "       [1., 1., 1.]])"
      ]
     },
     "execution_count": 158,
     "metadata": {},
     "output_type": "execute_result"
    }
   ],
   "source": [
    "np.c_[x,np.ones((4,1))]"
   ]
  },
  {
   "cell_type": "code",
   "execution_count": 209,
   "id": "3a6a23f3",
   "metadata": {},
   "outputs": [
    {
     "data": {
      "text/html": [
       "<div>\n",
       "<style scoped>\n",
       "    .dataframe tbody tr th:only-of-type {\n",
       "        vertical-align: middle;\n",
       "    }\n",
       "\n",
       "    .dataframe tbody tr th {\n",
       "        vertical-align: top;\n",
       "    }\n",
       "\n",
       "    .dataframe thead th {\n",
       "        text-align: right;\n",
       "    }\n",
       "</style>\n",
       "<table border=\"1\" class=\"dataframe\">\n",
       "  <thead>\n",
       "    <tr style=\"text-align: right;\">\n",
       "      <th></th>\n",
       "      <th>y</th>\n",
       "    </tr>\n",
       "  </thead>\n",
       "  <tbody>\n",
       "    <tr>\n",
       "      <th>0</th>\n",
       "      <td>0</td>\n",
       "    </tr>\n",
       "    <tr>\n",
       "      <th>1</th>\n",
       "      <td>1</td>\n",
       "    </tr>\n",
       "    <tr>\n",
       "      <th>2</th>\n",
       "      <td>1</td>\n",
       "    </tr>\n",
       "    <tr>\n",
       "      <th>3</th>\n",
       "      <td>1</td>\n",
       "    </tr>\n",
       "  </tbody>\n",
       "</table>\n",
       "</div>"
      ],
      "text/plain": [
       "   y\n",
       "0  0\n",
       "1  1\n",
       "2  1\n",
       "3  1"
      ]
     },
     "execution_count": 209,
     "metadata": {},
     "output_type": "execute_result"
    }
   ],
   "source": [
    "y"
   ]
  },
  {
   "cell_type": "code",
   "execution_count": null,
   "id": "56a4d0fa",
   "metadata": {},
   "outputs": [],
   "source": []
  }
 ],
 "metadata": {
  "kernelspec": {
   "display_name": "Python 3 (ipykernel)",
   "language": "python",
   "name": "python3"
  },
  "language_info": {
   "codemirror_mode": {
    "name": "ipython",
    "version": 3
   },
   "file_extension": ".py",
   "mimetype": "text/x-python",
   "name": "python",
   "nbconvert_exporter": "python",
   "pygments_lexer": "ipython3",
   "version": "3.9.7"
  }
 },
 "nbformat": 4,
 "nbformat_minor": 5
}
